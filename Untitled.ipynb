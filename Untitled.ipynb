{
 "cells": [
  {
   "cell_type": "code",
   "execution_count": 2,
   "id": "5551f8c7-fcd7-4244-afb7-0ccbd395a60b",
   "metadata": {
    "tags": []
   },
   "outputs": [
    {
     "name": "stderr",
     "output_type": "stream",
     "text": [
      "Registered S3 method overwritten by 'GGally':\n",
      "  method from   \n",
      "  +.gg   ggplot2\n",
      "\n"
     ]
    }
   ],
   "source": [
    "library(tidyverse)\n",
    "library(GGally)\n"
   ]
  },
  {
   "cell_type": "code",
   "execution_count": 8,
   "id": "ce79406a-9256-4612-a27d-53d4a1cdddfc",
   "metadata": {
    "tags": []
   },
   "outputs": [
    {
     "ename": "ERROR",
     "evalue": "Error in vroom_(file, delim = delim %||% col_types$delim, col_names = col_names, : embedded nul in string: 'PK\\003\\004-\\0\\0\\0\\b\\0fG\\xcfT\\x88X\\x82\\xd1\\xff\\xff\\xff\\xff\\xff\\xff\\xff\\xff\\017\\0\\024\\0ds_salaries.csv\\001\\0\\020\\0`\\x90\\0\\0\\0\\0\\0\\0\\xce\\034\\0\\0\\0\\0\\0\\0\\xa5]\\xdbZ]7\\x92\\xbe\\xe7)\\xfc\\0\\xebb\\xe9'\n",
     "output_type": "error",
     "traceback": [
      "Error in vroom_(file, delim = delim %||% col_types$delim, col_names = col_names, : embedded nul in string: 'PK\\003\\004-\\0\\0\\0\\b\\0fG\\xcfT\\x88X\\x82\\xd1\\xff\\xff\\xff\\xff\\xff\\xff\\xff\\xff\\017\\0\\024\\0ds_salaries.csv\\001\\0\\020\\0`\\x90\\0\\0\\0\\0\\0\\0\\xce\\034\\0\\0\\0\\0\\0\\0\\xa5]\\xdbZ]7\\x92\\xbe\\xe7)\\xfc\\0\\xebb\\xe9'\nTraceback:\n",
      "1. read_csv(\"https://www.kaggle.com/api/v1/datasets/download/ruchi798/data-science-job-salaries\")",
      "2. vroom::vroom(file, delim = \",\", col_names = col_names, col_types = col_types, \n .     col_select = {\n .         {\n .             col_select\n .         }\n .     }, id = id, .name_repair = name_repair, skip = skip, n_max = n_max, \n .     na = na, quote = quote, comment = comment, skip_empty_rows = skip_empty_rows, \n .     trim_ws = trim_ws, escape_double = TRUE, escape_backslash = FALSE, \n .     locale = locale, guess_max = guess_max, show_col_types = show_col_types, \n .     progress = progress, altrep = lazy, num_threads = num_threads)",
      "3. vroom_(file, delim = delim %||% col_types$delim, col_names = col_names, \n .     col_types = col_types, id = id, skip = skip, col_select = col_select, \n .     name_repair = .name_repair, na = na, quote = quote, trim_ws = trim_ws, \n .     escape_double = escape_double, escape_backslash = escape_backslash, \n .     comment = comment, skip_empty_rows = skip_empty_rows, locale = locale, \n .     guess_max = guess_max, n_max = n_max, altrep = vroom_altrep(altrep), \n .     num_threads = num_threads, progress = progress)"
     ]
    }
   ],
   "source": [
    "read_csv(\"https://www.kaggle.com/api/v1/datasets/download/ruchi798/data-science-job-salaries\")"
   ]
  },
  {
   "cell_type": "code",
   "execution_count": null,
   "id": "15e783f7-ee0c-49ca-bb56-ec9713662905",
   "metadata": {},
   "outputs": [],
   "source": []
  }
 ],
 "metadata": {
  "kernelspec": {
   "display_name": "R",
   "language": "R",
   "name": "ir"
  },
  "language_info": {
   "codemirror_mode": "r",
   "file_extension": ".r",
   "mimetype": "text/x-r-source",
   "name": "R",
   "pygments_lexer": "r",
   "version": "4.2.3"
  }
 },
 "nbformat": 4,
 "nbformat_minor": 5
}
